{
 "cells": [
  {
   "cell_type": "markdown",
   "id": "368466ad",
   "metadata": {},
   "source": [
    "# DM PPC\n",
    "## Clément VIGAND - Marie PONTALIER"
   ]
  },
  {
   "cell_type": "markdown",
   "id": "3ba90efa",
   "metadata": {},
   "source": [
    "On utilise tout au long de ce sujet deux ensembles d’agents H = {h1, . . . hn} et F = {f1, . . . fn}.\n",
    "\n",
    "Chaque agent hi ∈ H exprime ses préférences de couplage avec un agent de F à travers une liste L(hi) contenant les éléments de F sans duplication. \n",
    "Pour tout k ∈ [1, n − 1], hi préfère être couplé avec le kème agent dans L(hi) que le k + 1ème agent.\n",
    "De la même façon, chaque agent fj ∈ F exprime ses préférences de couplage avec un agent de H à travers une liste\n",
    "L(fj ).\n",
    "\n",
    "Un tuple (h, f ) est appelé un couple si h ∈ H et f ∈ F . \n",
    "\n",
    "Soit M un ensemble de couples. \n",
    "Un agent a préfère un agent b à sa situation dans M si a n’appartient à aucun couple dans M ou si a préfère b à son partenaire dans M . \n",
    "Un couple (h, f ) ∈ M bloque M si h préfère f à sa situation dans M et f préfère h à sa situation dans M.\n",
    "Un mariage stable est un ensemble de couples M tel que chaque agent est couplé avec un seul agent et M n’admet\n",
    "aucun couple bloquant.\n",
    "On note qu’une instance de ce problème peut admettre plusieurs solutions.\n",
    "\n",
    "La table 1 présente une instance avec n = 4. \n",
    "La séquence L[hi] est la liste d’agents dans F ordonnée selon les préférences de hi. \n",
    "Dans cet exemple, h3 préfère f2 à f4, et f4 à f1, etc.\n",
    "M1 = {(h1, f2), (h2, f1), (h3, f3), (h4, f4)} n’est pas stable car h3 préfère f2 à son partenaire et f2 préfère h3 à son partenaire. Dans ce cas (h3, f2) bloque M1.\n",
    "M2 = {(h1, f3), (h2, f4), (h3, f2), (h4, f1)} est un mariage stable car il n’existe aucun couple bloquant."
   ]
  },
  {
   "cell_type": "code",
   "execution_count": 2,
   "id": "2bcc3076",
   "metadata": {},
   "outputs": [],
   "source": [
    "from config import setup\n",
    "setup()"
   ]
  },
  {
   "cell_type": "code",
   "execution_count": 3,
   "id": "107e3bdf",
   "metadata": {},
   "outputs": [],
   "source": [
    "## install docplex first with $pip install docplex\n",
    "from docplex.cp.model import *\n",
    "from docplex.cp.config import get_default"
   ]
  },
  {
   "cell_type": "markdown",
   "id": "dc925010",
   "metadata": {},
   "source": [
    "# Première Partie\n",
    "\n",
    "\n",
    "### Question 1\n",
    "\n",
    "Proposez un modèle de programmation par contrainte pour trouver un mariage stable. Le modèle peut inclure\n",
    "des contraintes logiques (par exemple if_then). L’utilisation de ce genre de contraintes est accessible dans\n",
    "la documentation du solveur. Utilisez la recherche en profondeur par défaut sans préciser des heuristiques de\n",
    "branchements. N’affichez pas les traces d’exécutions internes du solveur."
   ]
  },
  {
   "cell_type": "markdown",
   "id": "62b6433d",
   "metadata": {},
   "source": [
    "Création du modèle représentant le problème des couples"
   ]
  },
  {
   "cell_type": "code",
   "execution_count": 14,
   "id": "6ddb241a",
   "metadata": {},
   "outputs": [],
   "source": [
    "def couple_model(Lh, Lf, n):\n",
    "    mdl = CpoModel(name='couples model')\n",
    "    \n",
    "    # variables représentant à qui sont liés les h et les f\n",
    "    h = mdl.integer_var_list(n, 0, n-1, 'h')\n",
    "    f = mdl.integer_var_list(n, 0, n-1, 'f')\n",
    "    \n",
    "    for i in range(n):\n",
    "        # garantie les couples dans les 2 sens\n",
    "        mdl.add(mdl.element(f, h[i]) == i)\n",
    "        for j in range(n):\n",
    "            # garantie l'unicité des conjoints\n",
    "            if j != i:\n",
    "                mdl.add(h[i] != h[j])\n",
    "                mdl.add(f[i] != f[j])\n",
    "        \n",
    "        # On parcourt toutes les femmes possibles qui ne sont pas la préférée absolue\n",
    "        for k in range(1, n):\n",
    "            currentFemme = Lh[i][k]\n",
    "            # On parcourt toutes les femmes préférées par rapport à currentFemme\n",
    "            for fPrefIndex in range(k):\n",
    "                fPref = Lh[i][fPrefIndex]\n",
    "                # Index de l'homme i dans les préférences de la femme fPref\n",
    "                indexHomme = Lf[fPref].index(i)\n",
    "                if indexHomme < n:\n",
    "                    # Parcours tous les hommes moins bien que i pour fPref\n",
    "                    for hNotPrefIndex in range(indexHomme+1, n):\n",
    "                        hNotPref = Lf[fPref][hNotPrefIndex]\n",
    "                        # Contrainte empêchant les couples bloquants\n",
    "                        mdl.add(if_then(h[i] == currentFemme, f[fPref] != hNotPref))\n",
    "    return h, f, mdl\n",
    "            "
   ]
  },
  {
   "cell_type": "markdown",
   "id": "11269723",
   "metadata": {},
   "source": [
    "### Question 2\n",
    "\n",
    "Testez le modèle avec l’exemple ci-dessus (ou un autre exemple) en affichant toutes les solutions. Affichez chaque\n",
    "solution avec un format que vous jugez compréhensible."
   ]
  },
  {
   "cell_type": "code",
   "execution_count": 37,
   "id": "8543b99d",
   "metadata": {},
   "outputs": [
    {
     "name": "stdout",
     "output_type": "stream",
     "text": [
      "(h_0, f_2)\n",
      "(h_1, f_3)\n",
      "(h_2, f_1)\n",
      "(h_3, f_0)\n",
      "\n"
     ]
    }
   ],
   "source": [
    "n = 4\n",
    "Lh = [[1, 2, 0, 3],\n",
    "      [3, 0, 2, 1],\n",
    "      [1, 3, 0, 2],\n",
    "      [2, 0, 3, 2]]\n",
    "Lf = [[1, 0, 2, 3],\n",
    "      [2, 3, 0, 1],\n",
    "      [0, 2, 3, 1],\n",
    "      [1, 0, 2, 3]]\n",
    "\n",
    "h, f, mdl = couple_model(Lh, Lf, n)\n",
    "lsols = mdl.start_search(trace_log = False)\n",
    "\n",
    "# Affichage des solutions\n",
    "for sol in lsols:\n",
    "    for i in range(n):\n",
    "        print(\"(h_{0}, {1})\".format(i, f[sol[h[i]]].name))\n",
    "    print()"
   ]
  },
  {
   "cell_type": "markdown",
   "id": "190d5b51",
   "metadata": {},
   "source": [
    "## Optimisation\n",
    "\n",
    "Ajout de la contrainte liée à la satisfaction des mariages"
   ]
  },
  {
   "cell_type": "code",
   "execution_count": 48,
   "id": "485cf455",
   "metadata": {},
   "outputs": [
    {
     "name": "stdout",
     "output_type": "stream",
     "text": [
      " ! ----------------------------------------------------------------------------\n",
      " ! Minimization problem - 49 variables, 110 constraints\n",
      " ! Workers              = 1\n",
      " ! Presolve             = Off\n",
      " ! SearchType           = DepthFirst\n",
      " ! Initial process time : 0.01s (0.01s extraction + 0.00s propagation)\n",
      " !  . Log search space  : 98.0 (before), 98.0 (after)\n",
      " !  . Memory usage      : 343.8 kB (before), 343.8 kB (after)\n",
      " ! Using sequential search.\n",
      " ! ----------------------------------------------------------------------------\n",
      " !          Best Branches  Non-fixed            Branch decision\n",
      "                        0         49                 -\n",
      " + New bound is 0\n",
      " *             2        8  0.01s               (gap is 100.0%)\n",
      " ! ----------------------------------------------------------------------------\n",
      " ! Search completed, 1 solution found.\n",
      " ! Best objective         : 2 (optimal - effective tol. is 0)\n",
      " ! Best bound             : 0\n",
      " ! ----------------------------------------------------------------------------\n",
      " ! Number of branches     : 12\n",
      " ! Number of fails        : 6\n",
      " ! Total memory usage     : 733.7 kB (690.2 kB CP Optimizer + 43.5 kB Concert)\n",
      " ! Time spent in solve    : 0.01s (0.00s engine + 0.01s extraction)\n",
      " ! Search speed (br. / s) : 1200.0\n",
      " ! ----------------------------------------------------------------------------\n",
      "3\n"
     ]
    }
   ],
   "source": [
    "def add_satisfaction(mdl, Lh, Lf, n, h, f):\n",
    "    # indices des maries et femmes dans les listes de préférence\n",
    "    indexesH = mdl.integer_var_list(n, 0, n-1, \"i_h\")\n",
    "    indexesF = mdl.integer_var_list(n, 0, n-1, \"i_h\")\n",
    "    \n",
    "    # Maximum de ces indices\n",
    "    MH, MF = mdl.integer_var_list(2, 0, n-1)\n",
    "    \n",
    "    # Associe les indices aux elements\n",
    "    for i in range(n):\n",
    "        mdl.add(mdl.element(Lh[i], indexesH[i]) == h[i])\n",
    "        mdl.add(mdl.element(Lf[i], indexesF[i]) == f[i])\n",
    "        \n",
    "    # Maximise MH et MF\n",
    "    mdl.add(MH == mdl.max(indexesH))\n",
    "    mdl.add(MF == mdl.max(indexesF))\n",
    "    # Minimise l'écart entre les 2\n",
    "    mdl.add(mdl.minimize(abs(MH-MF)))\n",
    "    return mdl, MF, MH\n",
    "\n",
    "mdl, MH, MH = add_satisfaction(mdl, Lh, Lf, n, h, f)\n",
    "sol = mdl.solve()\n",
    "print(sol[MH])"
   ]
  }
 ],
 "metadata": {
  "kernelspec": {
   "display_name": "Python (CPLEX)",
   "language": "python",
   "name": "cplex"
  },
  "language_info": {
   "codemirror_mode": {
    "name": "ipython",
    "version": 3
   },
   "file_extension": ".py",
   "mimetype": "text/x-python",
   "name": "python",
   "nbconvert_exporter": "python",
   "pygments_lexer": "ipython3",
   "version": "3.7.13"
  }
 },
 "nbformat": 4,
 "nbformat_minor": 5
}
