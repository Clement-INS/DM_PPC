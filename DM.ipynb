{
 "cells": [
  {
   "cell_type": "markdown",
   "id": "368466ad",
   "metadata": {},
   "source": [
    "# DM PPC\n",
    "## Clément VIGAND - Marie PONTALIER"
   ]
  },
  {
   "cell_type": "code",
   "execution_count": 1,
   "id": "2bcc3076",
   "metadata": {},
   "outputs": [],
   "source": [
    "from config import setup\n",
    "setup()"
   ]
  },
  {
   "cell_type": "code",
   "execution_count": 2,
   "id": "107e3bdf",
   "metadata": {},
   "outputs": [],
   "source": [
    "## install docplex first with $pip install docplex\n",
    "from docplex.cp.model import *\n",
    "from docplex.cp.config import get_default"
   ]
  },
  {
   "attachments": {
    "image.png": {
     "image/png": "[encoded data removed]"
    }
   },
   "cell_type": "markdown",
   "id": "ccd7ae94",
   "metadata": {},
   "source": [
    "# Première Partie\n",
    "\n",
    "On utilise tout au long de ce sujet deux ensembles d’agents H = {h1, . . . hn} et F = {f1, . . . fn}.\n",
    "\n",
    "Chaque agent hi ∈ H exprime ses préférences de couplage avec un agent de F à travers une liste L(hi) contenant les éléments de F sans duplication. \n",
    "Pour tout k ∈ [1, n − 1], hi préfère être couplé avec le kème agent dans L(hi) que le k + 1ème agent.\n",
    "De la même façon, chaque agent fj ∈ F exprime ses préférences de couplage avec un agent de H à travers une liste\n",
    "L(fj ).\n",
    "\n",
    "Un tuple (h, f ) est appelé un couple si h ∈ H et f ∈ F . \n",
    "\n",
    "Soit M un ensemble de couples. \n",
    "Un agent a préfère un agent b à sa situation dans M si a n’appartient à aucun couple dans M ou si a préfère b à son partenaire dans M . \n",
    "Un couple (h, f ) ∈ M bloque M si h préfère f à sa situation dans M et f préfère h à sa situation dans M.\n",
    "Un mariage stable est un ensemble de couples M tel que chaque agent est couplé avec un seul agent et M n’admet\n",
    "aucun couple bloquant.\n",
    "On note qu’une instance de ce problème peut admettre plusieurs solutions.\n",
    "\n",
    "La table 1 présente une instance avec n = 4. \n",
    "La séquence L[hi] est la liste d’agents dans F ordonnée selon les préférences de hi. \n",
    "Dans cet exemple, h3 préfère f2 à f4, et f4 à f1, etc.\n",
    "M1 = {(h1, f2), (h2, f1), (h3, f3), (h4, f4)} n’est pas stable car h3 préfère f2 à son partenaire et f2 préfère h3 à son partenaire. Dans ce cas (h3, f2) bloque M1.\n",
    "M2 = {(h1, f3), (h2, f4), (h3, f2), (h4, f1)} est un mariage stable car il n’existe aucun couple bloquant.\n",
    "\n",
    "\n",
    "![image.png](attachment:image.png)\n"
   ]
  },
  {
   "cell_type": "markdown",
   "id": "0eea9591",
   "metadata": {},
   "source": [
    "### Question 1\n",
    "\n",
    "Proposez un modèle de programmation par contrainte pour trouver un mariage stable. Le modèle peut inclure\n",
    "des contraintes logiques (par exemple if_then). L’utilisation de ce genre de contraintes est accessible dans\n",
    "la documentation du solveur. Utilisez la recherche en profondeur par défaut sans préciser des heuristiques de\n",
    "branchements. N’affichez pas les traces d’exécutions internes du solveur."
   ]
  },
  {
   "cell_type": "code",
   "execution_count": 3,
   "id": "6ddb241a",
   "metadata": {},
   "outputs": [],
   "source": [
    "def couple_model(Lh, Lf, n):\n",
    "    mdl = CpoModel(name='couples model')\n",
    "    \n",
    "    # variables représentant à qui sont liés les h et les f\n",
    "    h = mdl.integer_var_list(n, 0, n-1, 'h')\n",
    "    f = mdl.integer_var_list(n, 0, n-1, 'f')\n",
    "    \n",
    "    # On parcourt tous les hommes\n",
    "    for i in range(n):\n",
    "        # garantit les couples dans les 2 sens\n",
    "        mdl.add(mdl.element(f, h[i]) == i)\n",
    "        for j in range(n):\n",
    "            # garantit l'unicité des conjoints\n",
    "            if j != i:\n",
    "                mdl.add(h[i] != h[j])\n",
    "                mdl.add(f[i] != f[j])\n",
    "        \n",
    "        # On parcourt toutes les femmes possibles qui ne sont pas la préférée absolue\n",
    "        for k in range(1, n):\n",
    "            currentFemme = Lh[i][k]\n",
    "            # On parcourt toutes les femmes préférées par rapport à currentFemme\n",
    "            for fPrefIndex in range(k):\n",
    "                fPref = Lh[i][fPrefIndex]\n",
    "                # Index de l'homme i dans les préférences de la femme fPref\n",
    "                indexHomme = Lf[fPref].index(i)\n",
    "                if indexHomme < n:\n",
    "                    # Parcours tous les hommes moins bien que i pour fPref\n",
    "                    for hNotPrefIndex in range(indexHomme+1, n):\n",
    "                        hNotPref = Lf[fPref][hNotPrefIndex]\n",
    "                        # Contrainte empêchant les couples bloquants\n",
    "                        mdl.add(if_then(h[i] == currentFemme, f[fPref] != hNotPref))\n",
    "    return h, f, mdl\n",
    "            "
   ]
  },
  {
   "cell_type": "markdown",
   "id": "11269723",
   "metadata": {},
   "source": [
    "### Question 2\n",
    "\n",
    "Testez le modèle avec l’exemple ci-dessus (ou un autre exemple) en affichant toutes les solutions. Affichez chaque\n",
    "solution avec un format que vous jugez compréhensible."
   ]
  },
  {
   "cell_type": "code",
   "execution_count": 4,
   "id": "8543b99d",
   "metadata": {},
   "outputs": [
    {
     "name": "stdout",
     "output_type": "stream",
     "text": [
      "(h_0, f_2)\n",
      "(h_1, f_3)\n",
      "(h_2, f_1)\n",
      "(h_3, f_0)\n",
      "\n"
     ]
    }
   ],
   "source": [
    "n = 4\n",
    "Lh = [[1, 2, 0, 3],\n",
    "      [3, 0, 2, 1],\n",
    "      [1, 3, 0, 2],\n",
    "      [2, 0, 3, 2]]\n",
    "Lf = [[1, 0, 2, 3],\n",
    "      [2, 3, 0, 1],\n",
    "      [0, 2, 3, 1],\n",
    "      [1, 0, 2, 3]]\n",
    "\n",
    "h, f, mdl = couple_model(Lh, Lf, n)\n",
    "lsols = mdl.start_search(trace_log = False, SearchType=\"DepthFirst\")\n",
    "\n",
    "# Affichage des solutions\n",
    "for sol in lsols:\n",
    "    for i in range(n):\n",
    "        print(\"(h_{0}, {1})\".format(i, f[sol[h[i]]].name))\n",
    "    print()"
   ]
  },
  {
   "cell_type": "markdown",
   "id": "545b75ce",
   "metadata": {},
   "source": [
    "### Question 3\n",
    "\n",
    "Proposez deux stratégies de recherches différentes qui vous semblent très différentes (i.e., deux combinaisons\n",
    "de type <heuristique de choix de variables + heuristique de choix de valeurs>). On note ces deux stratégies\n",
    "par S1 et S2"
   ]
  },
  {
   "cell_type": "code",
   "execution_count": 5,
   "id": "82b86a1d",
   "metadata": {},
   "outputs": [],
   "source": [
    "\n"
   ]
  },
  {
   "cell_type": "markdown",
   "id": "065d43a5",
   "metadata": {},
   "source": [
    "### Question 4\n",
    "\n",
    "On veut tester S1 et S2 avec une recherche en profondeur sans et avec randomisation. Voici le protocole de\n",
    "l’étude expérimentale :\n",
    "\n",
    "— Générez différentes instances randomisées du problème avec différentes tailles (à partir de n = 5). Pour\n",
    "chaque taille, générez 5 instances.\n",
    "\n"
   ]
  },
  {
   "cell_type": "code",
   "execution_count": 6,
   "id": "47057be9",
   "metadata": {},
   "outputs": [],
   "source": [
    "import random\n",
    "\n",
    "def random_instances(tailles):\n",
    "\n",
    "    Liste_modeles = []\n",
    "\n",
    "    for i in tailles :\n",
    "        n = i\n",
    "        #valeurs possibles pour les préférences\n",
    "        liste_numeros = [j for j in range(i)]\n",
    "    \n",
    "        #5 instances par taille\n",
    "        for k in range(5):\n",
    "        \n",
    "            Lh = []\n",
    "            Lf = []\n",
    "        \n",
    "            # génération des préférences de manière aléatoire\n",
    "            for j in range(i) :\n",
    "                random.shuffle(liste_numeros)\n",
    "                Lh.append(liste_numeros[:])\n",
    "                random.shuffle(liste_numeros)\n",
    "                Lf.append(liste_numeros[:])\n",
    "                \n",
    "            #on ajoute l'instance créée à la liste des instances        \n",
    "            Liste_modeles.append([Lh, Lf, n])\n",
    "\n",
    "    return Liste_modeles\n",
    "    \n",
    "\n",
    "liste_n = [5, 8, 10, 12, 15]    \n",
    "instances = random_instances(liste_n)\n",
    "\n",
    "\n",
    "#print(X)\n",
    "# Format : [ [ [[preference H1],[preference H2]], [[preference F1],[preference F2]], n ] , idem ]"
   ]
  },
  {
   "cell_type": "markdown",
   "id": "618804e1",
   "metadata": {},
   "source": [
    "— Lancez les 4 expérimentations (S1 et S2 avec une recherche en profondeur sans et avec restart) avec\n",
    "vos jeux de données. Fixez le temps limite à 200s pour chaque exécution 1.\n",
    "\n",
    "— Reportez le temps d’exécution et le nombre de nœuds dans des figures en fonction de la taille.\n",
    "\n",
    "— Quelles sont vos conclusions ?"
   ]
  },
  {
   "cell_type": "code",
   "execution_count": 7,
   "id": "4b3e56d5",
   "metadata": {},
   "outputs": [
    {
     "name": "stdout",
     "output_type": "stream",
     "text": [
      "Meantime : \n",
      "[0.0, 0.0014583333333333334, 0.00365540354127124, 0.01661390233937487, 1.4802541820218018]\n",
      "[5.511910189455811e-07, 0.0014584235843395446, 0.0012707978244181086, 0.0045065238658933806, 0.09701315070077093]\n",
      "[0.0012500937844518564, 5.048928847321644e-06, 0.0038174505096798175, 0.015613813102407507, 1.4113769164570582]\n",
      "[5.2073543507153995e-11, 9.02174141261443e-08, 0.0025472528508772717, 0.004506522577016741, 0.09600182396497157]\n",
      "Nb Nodes : \n",
      "[4.345453083838096, 67.21254811978766, 192.47337413939348, 663.6989667303003, 47340.000156837355]\n",
      "[3.4965757583407653, 20.697010306881875, 76.59523127442465, 96.0032132904264, 2787.036677616438]\n",
      "[4.345453083838096, 67.21254811978766, 192.47337413939348, 663.6989667303003, 47340.000156837355]\n",
      "[3.4965757583407653, 20.697010306881875, 76.59523127442465, 96.0032132904264, 2787.036677616438]\n"
     ]
    }
   ],
   "source": [
    "# Temps de recherche et nombre de noeuds pour chaque heuristique\n",
    "meanTime = [[0, 0, 0, 0, 0],\n",
    "            [0, 0, 0, 0, 0],\n",
    "            [0, 0, 0, 0, 0],\n",
    "            [0, 0, 0, 0, 0]]\n",
    "nbNodes = [[0, 0, 0, 0, 0],\n",
    "            [0, 0, 0, 0, 0],\n",
    "            [0, 0, 0, 0, 0],\n",
    "            [0, 0, 0, 0, 0]]\n",
    "\n",
    "#On récupère les différentes instances\n",
    "for i in range(len(instances)) :\n",
    "    \n",
    "    Lh = instances[i][0]\n",
    "    Lf = instances[i][1]\n",
    "    n = instances[i][2]\n",
    "    \n",
    "    h, f, mdl = couple_model(Lh, Lf, n)\n",
    "\n",
    "    # Definition des heuristiques\n",
    "    L = h+f\n",
    "    S1 = mdl.search_phase(L, varchooser=mdl.select_random_var(),\n",
    "                             valuechooser=mdl.select_random_value())\n",
    "    S2 = mdl.search_phase(L, varchooser=mdl.select_random_var(),\n",
    "                             valuechooser=mdl.select_largest(value()))\n",
    "\n",
    "    # On crée un modèle pour chaque heuristique\n",
    "    SearchPhase= mdl.add_search_phase(S1)\n",
    "    lsols = mdl.start_search(trace_log = False, SearchType=\"DepthFirst\", TimeLimit=200)\n",
    "    \n",
    "    SearchPhase= mdl.add_search_phase(S1)\n",
    "    lsols1 = mdl.start_search(trace_log = False, SearchType=\"Restart\", TimeLimit=200)\n",
    "    \n",
    "    SearchPhase= mdl.add_search_phase(S2)\n",
    "    lsols2 = mdl.start_search(trace_log = False, SearchType=\"DepthFirst\", TimeLimit=200)\n",
    "    \n",
    "    SearchPhase= mdl.add_search_phase(S2)\n",
    "    lsols3 = mdl.start_search(trace_log = False, SearchType=\"Restart\", TimeLimit=200)\n",
    "\n",
    "    # Evaluation des heuristiques\n",
    "    list_sols = [lsols, lsols1, lsols2, lsols3]\n",
    "    #Pour chaque instance on a 4 modèles\n",
    "    for index, heur in enumerate(list_sols):\n",
    "        size = 0\n",
    "        #Pour chaque modèle on ajoute le temps et le nb de noeuds de chaque solution\n",
    "        for sol in heur:\n",
    "            size += 1\n",
    "            meanTime[index][int(i/5)] += sol.get_solver_infos()['TotalTime']\n",
    "            nbNodes[index][int(i/5)] += sol.get_solver_infos()['NumberOfChoicePoints']\n",
    "            #on fait la moyenne de temps et de noeuds de ces solutions \n",
    "            meanTime[index][int(i/5)] = meanTime[index][int(i/5)]/(5+size)\n",
    "            nbNodes[index][int(i/5)] = nbNodes[index][int(i/5)]/(5+size)\n",
    "print(\"Meantime : \")\n",
    "for i in range(len(meanTime)):\n",
    "    print(meanTime[i])\n",
    "print(\"Nb Nodes : \")\n",
    "for i in range(len(nbNodes)):\n",
    "    print(nbNodes[i])\n",
    "\n",
    "# Matrice avec chaque ligne correspondant à une heuristique. \n",
    "# Sur chaque ligne on a la moyenne des 5 instances pour chacune des tailles"
   ]
  },
  {
   "cell_type": "code",
   "execution_count": 8,
   "id": "4c9086f1",
   "metadata": {},
   "outputs": [
    {
     "data": {
      "image/png": "[encoded data removed]",
      "text/plain": [
       "<Figure size 1600x400 with 2 Axes>"
      ]
     },
     "metadata": {},
     "output_type": "display_data"
    }
   ],
   "source": [
    "from matplotlib import pyplot as plt\n",
    "\n",
    "fig, axs = plt.subplots(1, 2, figsize=(16, 4))\n",
    "for i in range(len(meanTime)):\n",
    "    axs[0].plot(liste_n, meanTime[i], label=\"sol {0}\".format(i))\n",
    "    axs[1].plot(liste_n, nbNodes[i], label=\"sol {0}\".format(i))\n",
    "    axs[0].set_title(\"Meantime en fonction de la taille du problème\")\n",
    "    axs[1].set_title(\"Nombre de noeuds en fonction de la taille du problème\")\n",
    "    axs[0].set_xlabel(\"Taille\")\n",
    "    axs[1].set_xlabel(\"Taille\")\n",
    "    axs[0].set_ylabel(\"Meantime (s)\")\n",
    "    axs[1].set_ylabel(\"Nb nodes\")\n",
    "    axs[0].legend()\n",
    "    axs[1].legend()"
   ]
  },
  {
   "cell_type": "markdown",
   "id": "de904ede",
   "metadata": {},
   "source": [
    "Le temps d'exécution augmente de manière exponentielle assez rapidement. Notre modèle ne doit probablement pas être bien optimisé. Nous aurions peut être pu diminuer le nombre de contraintes représentant les couples bloquants. Potentiellement en utilisant des méthodes comme le branch and bound vu en PLNE.\n",
    "\n",
    "De plus nous remarquons que les modèles S1 et S2 ont excatement les mêmes valeurs de temps et de nombre de noeuds parcourus. Cela est dû au fait que nos variables sont très indépendantes du résultat. On n'a pas représenté les préférences des hommes et des femmes par des variables mais seulement avec qui ils sont en couple. Ainsi aucune heuristique de recherche améliore les performances."
   ]
  },
  {
   "cell_type": "markdown",
   "id": "190d5b51",
   "metadata": {},
   "source": [
    "# Deuxième Partie\n",
    "\n",
    "On considère dans cette partie une version d’optimisation de ce problème. \n",
    "\n",
    "Étant donné un mariage M , on définit le degré de satisfaction de hi dans M , noté par d(M, hi), comme le rang de son partenaire dans L(hi). \n",
    "La satisfaction de H par rapport à M , noté par D(M, H), est la plus grande valeur parmi d(h1, M ), . . . , d(hn, M ). \n",
    "On définit de la même façon le degré de satisfaction de fj , noté par d(fi, M ) et celle de F , noté par D(M, F ).\n",
    "\n",
    "Dans l’exemple de la table 1, on a d(M2, h4) = 2 (car il est couplé avec f1), D(M2, H) = 2 (la pire satisfaction des\n",
    "agents dans H), d(M2, f2) = 1 (car f2 est couplé à h3) et D(M2, F ) = 4 (la pire satisfaction des agents dans H).\n",
    "\n",
    "Le problème de mariage stable équilibré est de trouver un mariage stable M tel que |D(M, H) − D(M, F )| est minimale."
   ]
  },
  {
   "cell_type": "markdown",
   "id": "a9e38243",
   "metadata": {},
   "source": [
    "### Question 1\n",
    "\n",
    "Proposez un modèle pour ce problème d’optimisation et testez le avec l’exemple précédant (ou autres exemples).\n",
    "N’affichez pas les traces d’exécutions internes du solveur."
   ]
  },
  {
   "cell_type": "code",
   "execution_count": 9,
   "id": "485cf455",
   "metadata": {},
   "outputs": [
    {
     "name": "stdout",
     "output_type": "stream",
     "text": [
      " ! ----------------------------------------------------------------------------\n",
      " ! Minimization problem - 62 variables, 10896 constraints\n",
      " ! Workers              = 1\n",
      " ! Presolve             = Off\n",
      " ! Initial process time : 0.01s (0.01s extraction + 0.00s propagation)\n",
      " !  . Log search space  : 242.2 (before), 242.2 (after)\n",
      " !  . Memory usage      : 2.7 MB (before), 2.7 MB (after)\n",
      " ! Using sequential search.\n",
      " ! ----------------------------------------------------------------------------\n",
      " !          Best Branches  Non-fixed            Branch decision\n",
      "                        0         62                 -\n",
      " + New bound is 0\n",
      "                      748         16        F    10 != i_h_3\n",
      " + New bound is 1\n",
      " *             9      790  0.07s               (gap is 88.89%)\n",
      "               9     1000         16        F     0  = i_h_4\n",
      "               9     2000         22        F     1 != i_h_10\n",
      " *             3     2335  0.12s               (gap is 66.67%)\n",
      "               3     3000          9        F     0  = h_8\n",
      "               3     4000         14             12  = f_9\n",
      "               3     5000         24        F     0  = i_h_10\n",
      "               3     6000         12              7 != i_h_9\n",
      "               3     7000         22             10 != i_h_14\n",
      "               3     7715         25        F    13 != i_h_0\n",
      " + New bound is 3 (gap is 0.00%)\n",
      " ! ----------------------------------------------------------------------------\n",
      " ! Search completed, 2 solutions found.\n",
      " ! Best objective         : 3 (optimal - effective tol. is 0)\n",
      " ! Best bound             : 3\n",
      " ! ----------------------------------------------------------------------------\n",
      " ! Number of branches     : 7715\n",
      " ! Number of fails        : 3800\n",
      " ! Total memory usage     : 16.8 MB (16.8 MB CP Optimizer + 0.0 MB Concert)\n",
      " ! Time spent in solve    : 0.30s (0.28s engine + 0.01s extraction)\n",
      " ! Search speed (br. / s) : 27553.6\n",
      " ! ----------------------------------------------------------------------------\n",
      "(h_0, f_12)\n",
      "(h_1, f_8)\n",
      "(h_2, f_11)\n",
      "(h_3, f_10)\n",
      "(h_4, f_13)\n",
      "(h_5, f_2)\n",
      "(h_6, f_5)\n",
      "(h_7, f_7)\n",
      "(h_8, f_4)\n",
      "(h_9, f_14)\n",
      "(h_10, f_9)\n",
      "(h_11, f_3)\n",
      "(h_12, f_1)\n",
      "(h_13, f_6)\n",
      "(h_14, f_0)\n"
     ]
    }
   ],
   "source": [
    "def add_satisfaction(mdl, Lh, Lf, n, h, f):\n",
    "    # indices des maries et femmes dans les listes de préférence\n",
    "    indexesH = mdl.integer_var_list(n, 0, n-1, \"i_h\")\n",
    "    indexesF = mdl.integer_var_list(n, 0, n-1, \"i_h\")\n",
    "    \n",
    "    # Maximum de ces indices\n",
    "    MH, MF = mdl.integer_var_list(2, 0, n-1)\n",
    "    \n",
    "    # Associe les indices aux elements\n",
    "    for i in range(n):\n",
    "        mdl.add(mdl.element(Lh[i], indexesH[i]) == h[i])\n",
    "        mdl.add(mdl.element(Lf[i], indexesF[i]) == f[i])\n",
    "        \n",
    "    # Maximise MH et MF\n",
    "    mdl.add(MH == mdl.max(indexesH))\n",
    "    mdl.add(MF == mdl.max(indexesF))\n",
    "    # Minimise l'écart entre les 2\n",
    "    mdl.add(mdl.minimize(abs(MH-MF)))\n",
    "    return mdl, MF, MH\n",
    "\n",
    "h, f, mdl = couple_model(Lh, Lf, n)\n",
    "mdl, MH, MH = add_satisfaction(mdl, Lh, Lf, n, h, f)\n",
    "sol = mdl.solve()\n",
    "for i in range(n):\n",
    "    print(\"(h_{0}, {1})\".format(i, f[sol[h[i]]].name))"
   ]
  },
  {
   "cell_type": "markdown",
   "id": "eec5bc85",
   "metadata": {},
   "source": [
    "### Question 2\n",
    "\n",
    "En utilisant les instances générées dans la première partie, évaluez les deux stratégies S1 et S2 avec une recherche\n",
    "en profondeur sans restart. Cette fois, on cherche la meilleure solution dans la limite de 200s par exécution.\n",
    "Présentez vos résultats sous forme de figures qui représentent le temps de résolution ainsi que la qualité des\n",
    "solutions (i.e., en se basant sur la meilleure valeur) en fonction de la taille de la donnée."
   ]
  },
  {
   "cell_type": "code",
   "execution_count": null,
   "id": "2fc52dfc",
   "metadata": {},
   "outputs": [],
   "source": [
    "#On récupère les différentes instances\n",
    "for i in range(len(instances)) :\n",
    "    \n",
    "    Lh = instances[i][0]\n",
    "    Lf = instances[i][1]\n",
    "    n = instances[i][2]\n",
    "    \n",
    "    #on crée un modèle\n",
    "    h, f, mdl = couple_model(Lh, Lf, n)\n",
    "    mdl, MH, MH = add_satisfaction(mdl, Lh, Lf, n, h, f)\n",
    "    \n",
    "    # On crée un modèle pour chaque heuristique\n",
    "    SearchPhase= mdl.add_search_phase(S1)\n",
    "    lsols = mdl.start_search(trace_log = False, SearchType=\"DepthFirst\", TimeLimit=200)\n",
    "    \n",
    "    SearchPhase= mdl.add_search_phase(S2)\n",
    "    lsols1 = mdl.start_search(trace_log = False, SearchType=\"DepthFirst\", TimeLimit=200)\n",
    "\n",
    "    # Evaluation des heuristiques\n",
    "    list_sols = [lsols, lsols1, lsols2, lsols3]\n",
    "    #Pour chaque instance on a 4 modèles\n",
    "    for index, heur in enumerate(list_sols):\n",
    "        size = 0\n",
    "        #Pour chaque modèle on ajoute le temps et le nb de noeuds de chaque solution\n",
    "        for sol in heur:\n",
    "            size += 1\n",
    "            meanTime[index][int(i/5)] += sol.get_solver_infos()['TotalTime']\n",
    "            nbNodes[index][int(i/5)] += sol.get_solver_infos()['NumberOfChoicePoints']\n",
    "            #on fait la moyenne de temps et de noeuds de ces solutions \n",
    "            meanTime[index][int(i/5)] = meanTime[index][int(i/5)]/(5+size)\n",
    "            nbNodes[index][int(i/5)] = nbNodes[index][int(i/5)]/(5+size)\n",
    "            \n",
    "\n",
    "fig, axs = plt.subplots(1, 2, figsize=(16, 4))\n",
    "for i in range(len(meanTime)):\n",
    "    axs[0].plot(liste_n, meanTime[i], label=\"sol {0}\".format(i))\n",
    "    axs[1].plot(liste_n, nbNodes[i], label=\"sol {0}\".format(i))\n",
    "    axs[0].set_title(\"Meantime en fonction de la taille du problème\")\n",
    "    axs[1].set_title(\"Nombre de noeuds en fonction de la taille du problème\")\n",
    "    axs[0].set_xlabel(\"Taille\")\n",
    "    axs[1].set_xlabel(\"Taille\")\n",
    "    axs[0].set_ylabel(\"Meantime (s)\")\n",
    "    axs[1].set_ylabel(\"Nb nodes\")\n",
    "    axs[0].legend()\n",
    "    axs[1].legend()"
   ]
  },
  {
   "cell_type": "markdown",
   "id": "11fc836f",
   "metadata": {},
   "source": [
    "### Question 3\n",
    "\n",
    "Quelles sont vos conclusions ?"
   ]
  },
  {
   "cell_type": "code",
   "execution_count": null,
   "id": "e6fd5722",
   "metadata": {},
   "outputs": [],
   "source": []
  }
 ],
 "metadata": {
  "kernelspec": {
   "display_name": "Python (CPLEX)",
   "language": "python",
   "name": "cplex"
  },
  "language_info": {
   "codemirror_mode": {
    "name": "ipython",
    "version": 3
   },
   "file_extension": ".py",
   "mimetype": "text/x-python",
   "name": "python",
   "nbconvert_exporter": "python",
   "pygments_lexer": "ipython3",
   "version": "3.7.13"
  }
 },
 "nbformat": 4,
 "nbformat_minor": 5
}
